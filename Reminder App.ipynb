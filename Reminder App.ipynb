{
 "cells": [
  {
   "cell_type": "markdown",
   "id": "0789f8c3",
   "metadata": {},
   "source": [
    "Primeiro faça um banco de dados e uma tabela para manter as tarefas"
   ]
  },
  {
   "cell_type": "code",
   "execution_count": null,
   "id": "600f163d",
   "metadata": {},
   "outputs": [],
   "source": [
    "CREATE DATABASE to_do\n",
    "USE to_do\n",
    "CREATE TABLE tasks(task varchar(225));"
   ]
  },
  {
   "cell_type": "markdown",
   "id": "fff7dda0",
   "metadata": {},
   "source": [
    "Instalação"
   ]
  },
  {
   "cell_type": "code",
   "execution_count": null,
   "id": "8a0232ad",
   "metadata": {},
   "outputs": [],
   "source": [
    "pip install my-sql-connector-python"
   ]
  },
  {
   "cell_type": "code",
   "execution_count": null,
   "id": "9b3ee94c",
   "metadata": {},
   "outputs": [],
   "source": [
    "import tkinter as tk\n",
    "from tkinter.messagebox import *\n",
    "import mysql.connector as mysql"
   ]
  },
  {
   "cell_type": "code",
   "execution_count": null,
   "id": "d0319eee",
   "metadata": {},
   "outputs": [],
   "source": [
    "mycon = mysql.connect(\n",
    "    user='USERNAME',\n",
    "    passwd='PASSWORD',\n",
    "    host='localhost',\n",
    "    database='to_do'\n",
    ")"
   ]
  },
  {
   "cell_type": "code",
   "execution_count": null,
   "id": "20115e89",
   "metadata": {},
   "outputs": [],
   "source": [
    "def add_to_db(task):\n",
    "    mycur = mycon.cursor()\n",
    "    mycur.execute('INSERT into tasks(task) values(\"{}\")'.format(task))\n",
    "    mycon.commit()"
   ]
  },
  {
   "cell_type": "code",
   "execution_count": null,
   "id": "1d508b9b",
   "metadata": {},
   "outputs": [],
   "source": [
    "def delete_from_db(task):\n",
    "    mycur = mycon.cursor()\n",
    "    mycur.execute('DELETE from tasks where task = \"{}\"'.format(task))\n",
    "    mycon.commit()\n",
    "    def add_task():\n",
    "        task = task_entry.get()\n",
    "        if task != '':\n",
    "            tasks_list.insert(tk.END,task)\n",
    "            add_to_db(task)\n",
    "            task_entry.delete(0,tk,END)\n",
    "        else:\n",
    "            showerror('Error', 'Please enter a task')"
   ]
  },
  {
   "cell_type": "code",
   "execution_count": null,
   "id": "dbc6a7c5",
   "metadata": {},
   "outputs": [],
   "source": [
    "def del_task():\n",
    "    try:\n",
    "        selection = task_list.curselection()[0]\n",
    "        task = tasks_list.get(selection)\n",
    "        delete_from_db(task)\n",
    "        tasks_list.delete(selection)\n",
    "    except:\n",
    "        showerror(\"Error\", 'Please select a task to delete')"
   ]
  },
  {
   "cell_type": "code",
   "execution_count": null,
   "id": "6dae71d8",
   "metadata": {},
   "outputs": [],
   "source": [
    "def load_task():\n",
    "    tasks_list.delete(0,tk.END)\n",
    "    mycur = mycon.cursor()\n",
    "    mycur.execute('select * from tasks')\n",
    "    tasks = mycur.fetchall()\n",
    "    if len(tasks) = 0:\n",
    "        showerror('No tasks!', 'As tasks não foram salvas')\n",
    "    for tasks in tasks:\n",
    "        tasks_list.insert(tk.END,task[0])      "
   ]
  },
  {
   "cell_type": "code",
   "execution_count": null,
   "id": "f1470cab",
   "metadata": {},
   "outputs": [],
   "source": [
    "root = tk.TK()\n",
    "root.config(bg='#edge3d9')\n",
    "root.title('to-do-app.py')\n",
    "root.geometry('290x420+550+250')\n",
    "root.iconbitmap('icon.ico')"
   ]
  },
  {
   "cell_type": "code",
   "execution_count": null,
   "id": "5ebb6670",
   "metadata": {},
   "outputs": [],
   "source": [
    "bg_picture = tk.PhotoImage(file='todo_bg.png')\n",
    "bg = tk.Label(root, image=bg_picture)\n",
    "bg.pack()"
   ]
  },
  {
   "cell_type": "code",
   "execution_count": null,
   "id": "c4b2674e",
   "metadata": {},
   "outputs": [],
   "source": [
    "tasks_list = tk.Listbox(root,width=50, font=('Times', 15),bg='#ede3d9', fg='#000000')\n",
    "tasks_list.pack()"
   ]
  },
  {
   "cell_type": "code",
   "execution_count": null,
   "id": "f7124fd3",
   "metadata": {},
   "outputs": [],
   "source": [
    "task_entry = tk.Entry(root,width=50, font=('Times', 15), bg = '#ede3d9', fg='#000000')\n",
    "task_entry.pack()"
   ]
  },
  {
   "cell_type": "code",
   "execution_count": null,
   "id": "3b5a75d5",
   "metadata": {},
   "outputs": [],
   "source": [
    "add task_button = tk.Button(root, text='Add Task', command=add_task_width=45,\n",
    "                           font=('Helvetica', 10), bg='#ede3d9', fg='#000000', relief=tk.FLAT)\n",
    "add_task_button.pack()"
   ]
  },
  {
   "cell_type": "code",
   "execution_count": null,
   "id": "24f2f8d6",
   "metadata": {},
   "outputs": [],
   "source": [
    "delete_task_button = tk.Button(root, text='Delete Task', command = del_task, width=45,\n",
    "                              font=('Helvetica',10), bg='#ede3d9', fg='#000000',relief=tk.FLAT)\n",
    "delete_task_button.pack()"
   ]
  },
  {
   "cell_type": "code",
   "execution_count": null,
   "id": "2a6cda0d",
   "metadata": {},
   "outputs": [],
   "source": [
    "clear_task_button = tk.button(root, text='Load Tasks', command=load_tasks, width=45,\n",
    "                             font('Helvetica',10), bg='#ede3d9', fg='#000000', relief=tk.FLAT)\n",
    "clear_task_button.pack()"
   ]
  },
  {
   "cell_type": "code",
   "execution_count": null,
   "id": "848370f1",
   "metadata": {},
   "outputs": [],
   "source": [
    "root.main.loop()"
   ]
  }
 ],
 "metadata": {
  "kernelspec": {
   "display_name": "Python 3",
   "language": "python",
   "name": "python3"
  },
  "language_info": {
   "codemirror_mode": {
    "name": "ipython",
    "version": 3
   },
   "file_extension": ".py",
   "mimetype": "text/x-python",
   "name": "python",
   "nbconvert_exporter": "python",
   "pygments_lexer": "ipython3",
   "version": "3.8.8"
  }
 },
 "nbformat": 4,
 "nbformat_minor": 5
}
