{
 "cells": [
  {
   "cell_type": "code",
   "execution_count": null,
   "id": "71abd6e5",
   "metadata": {},
   "outputs": [],
   "source": [
    "from pyspark.mllib.feature import WordVec2"
   ]
  },
  {
   "cell_type": "code",
   "execution_count": null,
   "id": "781df5d2",
   "metadata": {},
   "outputs": [],
   "source": [
    "input = sc.textfile(\"text_by_line\").map(lambda row: row.split(\" \"))"
   ]
  },
  {
   "cell_type": "code",
   "execution_count": null,
   "id": "b02627db",
   "metadata": {},
   "outputs": [],
   "source": [
    "word2Vec = Word2Vec()\n",
    "model = wprd2vec.fit(input)"
   ]
  },
  {
   "cell_type": "code",
   "execution_count": null,
   "id": "d75abcac",
   "metadata": {},
   "outputs": [],
   "source": [
    "synonyms = model.findSynonyms('china', 40)"
   ]
  },
  {
   "cell_type": "code",
   "execution_count": null,
   "id": "696fb41b",
   "metadata": {},
   "outputs": [],
   "source": [
    "for word, cosine_distance in synonyms:\n",
    "    print(\"{}: {}\".format(word, cosine_distance))"
   ]
  },
  {
   "cell_type": "code",
   "execution_count": null,
   "id": "3eab1b33",
   "metadata": {},
   "outputs": [],
   "source": []
  }
 ],
 "metadata": {
  "kernelspec": {
   "display_name": "Python 3",
   "language": "python",
   "name": "python3"
  },
  "language_info": {
   "codemirror_mode": {
    "name": "ipython",
    "version": 3
   },
   "file_extension": ".py",
   "mimetype": "text/x-python",
   "name": "python",
   "nbconvert_exporter": "python",
   "pygments_lexer": "ipython3",
   "version": "3.8.8"
  }
 },
 "nbformat": 4,
 "nbformat_minor": 5
}
