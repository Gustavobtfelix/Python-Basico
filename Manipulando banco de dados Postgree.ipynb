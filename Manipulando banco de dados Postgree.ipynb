{
 "cells": [
  {
   "cell_type": "code",
   "execution_count": null,
   "metadata": {},
   "outputs": [],
   "source": [
    "import psycopg2"
   ]
  },
  {
   "cell_type": "code",
   "execution_count": null,
   "metadata": {},
   "outputs": [],
   "source": [
    "#conecta no banco de dados\n",
    "con = psycopg2.connect(\n",
    "    database ='pycoderbr',\n",
    "    user = 'postgres',\n",
    "    password = '1234',\n",
    "    host = '127.0.0.1',\n",
    "    port = '5432'\n",
    ")"
   ]
  },
  {
   "cell_type": "code",
   "execution_count": null,
   "metadata": {},
   "outputs": [],
   "source": [
    "#cria a query\n",
    "cur = con.cursor()"
   ]
  },
  {
   "cell_type": "code",
   "execution_count": null,
   "metadata": {},
   "outputs": [],
   "source": [
    "#insere os registros\n",
    "cur.execute(\"INSERT INTO clientes (nome, email) VALUES('Felipe, 'pycoderbr@gmail.com)\")\n",
    "cur.execute(\"INSERT INTO clientes (nome, email) VALUES('Marcos, 'marcos@gmail.com)\")\n",
    "cur.execute(\"INSERT INTO clientes (nome, email) VALUES('Marcela, 'marcela@gmail.com)\")\n",
    "cur.execute(\"INSERT INTO clientes (nome, email) VALUES('Janaina, 'janaina@gmail.com)\")"
   ]
  },
  {
   "cell_type": "code",
   "execution_count": null,
   "metadata": {},
   "outputs": [],
   "source": [
    "#Salva Registros\n",
    "con.commit()\n",
    "pritn('Registros Salvos com sucesso')\n",
    "con.close()"
   ]
  },
  {
   "cell_type": "code",
   "execution_count": null,
   "metadata": {},
   "outputs": [],
   "source": [
    "#cria e executa a query\n",
    "cur = con.cursor()\n",
    "cur.execute(\"SELECT cliente_id, nome, email FROM clientes\")\n",
    "rows = cur.fetchall()"
   ]
  },
  {
   "cell_type": "code",
   "execution_count": null,
   "metadata": {},
   "outputs": [],
   "source": [
    "#mostra resultados do select\n",
    "print(rows)\n",
    "for row in rows:\n",
    "    print('CLIENTE_ID =', row[0])\n",
    "    print('NOME =', row[1])\n",
    "    print('EMAIL =', row[2])\n",
    "con.close()"
   ]
  }
 ],
 "metadata": {
  "kernelspec": {
   "display_name": "Python 3",
   "language": "python",
   "name": "python3"
  },
  "language_info": {
   "codemirror_mode": {
    "name": "ipython",
    "version": 3
   },
   "file_extension": ".py",
   "mimetype": "text/x-python",
   "name": "python",
   "nbconvert_exporter": "python",
   "pygments_lexer": "ipython3",
   "version": "3.8.3"
  }
 },
 "nbformat": 4,
 "nbformat_minor": 4
}
