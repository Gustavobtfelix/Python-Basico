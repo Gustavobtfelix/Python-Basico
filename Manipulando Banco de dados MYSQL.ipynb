{
 "cells": [
  {
   "cell_type": "code",
   "execution_count": null,
   "metadata": {},
   "outputs": [],
   "source": [
    "import mysql-connector"
   ]
  },
  {
   "cell_type": "code",
   "execution_count": null,
   "metadata": {},
   "outputs": [],
   "source": [
    "#conecta no banco de dados \n",
    "mydb = mysql.connect(host='localhost', user='root', password='1234', database='pycoderbr')"
   ]
  },
  {
   "cell_type": "code",
   "execution_count": null,
   "metadata": {},
   "outputs": [],
   "source": [
    "#cria query, executa sql e salva registris no banco de dados\n",
    "mycursor = mydb.cursor()\n",
    "sql = \"INSERT INTO clientes (nome, idade, email) VALUES(%s,%s,%s)\"\n",
    "val = [\n",
    "    (\"Felipe\", 23, 'felipe@gmail.com'),\n",
    "    (\"Paulo\", 30, 'paulo@gmail.com'),\n",
    "    (\"Maria\", 19, 'maria@gmail.com')\n",
    "]\n",
    "mycursor.executemany(sql, val)\n",
    "mydb.commit()\n",
    "print(mycursor.rowcount, \"Registros Inseridos\")"
   ]
  },
  {
   "cell_type": "code",
   "execution_count": null,
   "metadata": {},
   "outputs": [],
   "source": [
    "# cria query, executa sql e captura os dados retornados.\n",
    "mycursor = mydb.cursor()\n",
    "mycursor.execute('SELECT * FROM clientes')\n",
    "clientes = mycursor.fetchall()"
   ]
  },
  {
   "cell_type": "code",
   "execution_count": null,
   "metadata": {},
   "outputs": [],
   "source": [
    "#mostra os registros \n",
    "for cliente in clientes:\n",
    "print(cliente)"
   ]
  }
 ],
 "metadata": {
  "kernelspec": {
   "display_name": "Python 3",
   "language": "python",
   "name": "python3"
  },
  "language_info": {
   "codemirror_mode": {
    "name": "ipython",
    "version": 3
   },
   "file_extension": ".py",
   "mimetype": "text/x-python",
   "name": "python",
   "nbconvert_exporter": "python",
   "pygments_lexer": "ipython3",
   "version": "3.8.3"
  }
 },
 "nbformat": 4,
 "nbformat_minor": 4
}
