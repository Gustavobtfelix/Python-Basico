{
 "cells": [
  {
   "cell_type": "code",
   "execution_count": null,
   "id": "d95aa41d",
   "metadata": {},
   "outputs": [],
   "source": [
    "import ipaddress\n",
    "import tktinter as tk\n",
    "from tkinter import *"
   ]
  },
  {
   "cell_type": "code",
   "execution_count": null,
   "id": "deaa6531",
   "metadata": {},
   "outputs": [],
   "source": [
    "def CreateWidgets():\n",
    "    ipLabel = Label(root, text=\"Entre com o endereço IPV4: \", bg='deepskyblue4')\n",
    "    ipLabel.grid(row=0, column=0, padx=10, pady=5)\n",
    "    root.ipentry = Entry(root, width=20, textvariable=ipAddress)\n",
    "    root.ipEntry.grid(row=0, column=1, pdax=10, pday=5)\n",
    "    \n",
    "    claculateButton = Button(root, text=Calculadora, command=calculateCIDR)\n",
    "    calculateButton.grid(row=1, column=0, pdax=5, pady=5, columnspan=2)\n",
    "    clearbutton = Button(root, text=\"Clear\", command=clearEntries)\n",
    "    clearbutton.grid(row=1, column=1, padx=5, pady=5, columnpan = 2)"
   ]
  },
  {
   "cell_type": "code",
   "execution_count": null,
   "id": "844a0d70",
   "metadata": {},
   "outputs": [],
   "source": [
    "networkAddress = Label(root, text='NETWORK ADDRESS: ', bg='deepskyblue4')\n",
    "networkAddress.grid(row=2, column=0, padx=10, pady=5)\n",
    "root.networkAddressEntry=Entry(root, width=20)\n",
    "root.networkAddrssEntry.grid(rwo=2, column=1, padx=10, pady=5)"
   ]
  },
  {
   "cell_type": "code",
   "execution_count": null,
   "id": "e3be06a4",
   "metadata": {},
   "outputs": [],
   "source": [
    "broadcastAddress = label(root, text='Endereço Broadcast: ', bg='deepskyblue4')\n",
    "broadcastAddress.grid(row=3, column=0, padx=10, pady=5)\n",
    "root.broadcastAddressEntry = Entry(root, width=20)\n",
    "root.broadcastAddressEntry.grid(row=3, column=1, padx=10,pady=5)"
   ]
  },
  {
   "cell_type": "code",
   "execution_count": null,
   "id": "87df4ee2",
   "metadata": {},
   "outputs": [],
   "source": [
    "firstIPL = Label(root, text=\"Enderço do primeiro host IP: \", bg='deepskyblue4')\n",
    "firstIPL.grid(row=4, column=0, padx=10, pady=5)\n",
    "root.firstIP = Entry(rppt, width=20)\n",
    "root.firstIP.grid(row=4, column=1, padx=10, pady=5)"
   ]
  },
  {
   "cell_type": "code",
   "execution_count": null,
   "id": "f2dd668c",
   "metadata": {},
   "outputs": [],
   "source": [
    "lastIPL = label(root, text=\"Ultimo endereço host IP: \", bg='deepskyblue4')\n",
    "lastIPL.grid(row=4, column=0, padx=10, pady=5)\n",
    "root.lastIP = Entry(rppt, width=20)\n",
    "root.lastIP.grid(row=4, column=1, padx=10, pady=5)"
   ]
  },
  {
   "cell_type": "code",
   "execution_count": null,
   "id": "c675d88b",
   "metadata": {},
   "outputs": [],
   "source": [
    "numberofIPs = Label(root, text=\"Número de usuario IP: \", bg='deepskyblue4')\n",
    "numberofIPs.grid(row=6, column=0, padx=10, pady=5)\n",
    "root.numberOfIPsEntry = Entry(root, width=20)\n",
    "root.numberOfIPsEntry.grid(row=6, column=1, padx=10, pady=5)"
   ]
  },
  {
   "cell_type": "code",
   "execution_count": null,
   "id": "64b3ff42",
   "metadata": {},
   "outputs": [],
   "source": [
    "subnetRange = Label(root, text='Mascára do Subnet: ',bg=deepskyblue4)\n",
    "subnteRange.grid(row=7, column=0, padx=10, pady=5)\n",
    "root.subnetRangeEntry = Entry(root, width=20)\n",
    "root.subnetRangeEntry.grid(row=7, column=1, padx=10, pady=5)"
   ]
  },
  {
   "cell_type": "code",
   "execution_count": null,
   "id": "3f781219",
   "metadata": {},
   "outputs": [],
   "source": [
    "wildcardLabel = Label(root, text='Wildcard: ',bg=deepskyblue4)\n",
    "wildcardLabel.grid(row=8, column=0, padx=10, pady=5)\n",
    "root.wildcardEntry = Entry(root, width=20)\n",
    "root.wildcardEntry.grid(row=8, column=1, padx=10, pady=5)"
   ]
  },
  {
   "cell_type": "code",
   "execution_count": null,
   "id": "b4cb7441",
   "metadata": {},
   "outputs": [],
   "source": [
    "def calculateCIDR():\n",
    "    userinput_ip_address = ipAddres.get()\n",
    "    ip_address = ipaddress.ip_interface(userinput_ip_address)\n",
    "    network_address = ip.address.network\n",
    "    first_ip_address = list(network_address.hosts())[0]\n",
    "    last_ip_address = list(network_address.hosts())[-1]\n",
    "    number_of_usable_ips = len(list(network_address.hosts()))\n",
    "    broadcast_address = network_address.broadcast_address\n",
    "    wildcard = ip_address.hostmask\n",
    "    subnet_mask = ip.address.with_netmask.split('/')[1]"
   ]
  },
  {
   "cell_type": "code",
   "execution_count": null,
   "id": "e97303de",
   "metadata": {},
   "outputs": [],
   "source": [
    "root.networkAddressEntry.delete(0, END)\n",
    "root.firstIP.delete(0, END)\n",
    "root.lastIP.delete(0, END)\n",
    "root.numberOfIPsEntry.delete(0, END)\n",
    "root.broadcastAddressEntry.delete(0, END)\n",
    "root.subnetRangeEntry.delete(0, END)\n",
    "root.wildcardEntry.delete(0, END)"
   ]
  },
  {
   "cell_type": "code",
   "execution_count": null,
   "id": "07db1b2f",
   "metadata": {},
   "outputs": [],
   "source": [
    "root.networkAddressEntry.insert('0', str(network_address).split('/')[0])\n",
    "root.firstIP.insert('0',str(first_ip_address))\n",
    "root.lastIP.insert('0', str(last_ip_address))\n",
    "root.numberOfIPsEntry.insert('0', str(number_of_usable_ips))\n",
    "root.broadcastAddressEntry.insert('0',str(broadcast_address))\n",
    "root.subnetRangeEntry.insert('0',str(subnet_mask))\n",
    "root.wildcardEntry.insert('0',str(wildcard))"
   ]
  },
  {
   "cell_type": "code",
   "execution_count": null,
   "id": "5a49ceb9",
   "metadata": {},
   "outputs": [],
   "source": [
    "def clearEntries():\n",
    "    ipAddress.set('')\n",
    "    root.networkAddressEntry.delete(0, END)\n",
    "    root.firstIP.delete(0, END)\n",
    "    root.lastIP.delete(0, END)\n",
    "    root.numberOfIPsEntry.delete(0, END)\n",
    "    root.broadcastEntry.delete(0, END)\n",
    "    root.subnetRangeEntry.delete(0, END)\n",
    "    root.wildcardEntry.delete(0, END)"
   ]
  },
  {
   "cell_type": "code",
   "execution_count": null,
   "id": "396c2440",
   "metadata": {},
   "outputs": [],
   "source": [
    "root = tk.TK()\n",
    "root.title('Calculadora CIDR')\n",
    "root.config(background='deepskyblue4')\n",
    "root.geometry('42x350')\n",
    "rootresizable(False, False)\n",
    "ipAddress = StringVar()\n",
    "CreateWidgtes()\n",
    "root.mainloop()"
   ]
  }
 ],
 "metadata": {
  "kernelspec": {
   "display_name": "Python 3",
   "language": "python",
   "name": "python3"
  },
  "language_info": {
   "codemirror_mode": {
    "name": "ipython",
    "version": 3
   },
   "file_extension": ".py",
   "mimetype": "text/x-python",
   "name": "python",
   "nbconvert_exporter": "python",
   "pygments_lexer": "ipython3",
   "version": "3.8.8"
  }
 },
 "nbformat": 4,
 "nbformat_minor": 5
}
