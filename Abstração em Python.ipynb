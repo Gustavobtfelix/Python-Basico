{
 "cells": [
  {
   "cell_type": "code",
   "execution_count": null,
   "id": "a34a5f80",
   "metadata": {},
   "outputs": [],
   "source": [
    "from abc import ABC, abstractmethod"
   ]
  },
  {
   "cell_type": "code",
   "execution_count": null,
   "id": "cf0d1fc3",
   "metadata": {},
   "outputs": [],
   "source": [
    "class Payment(ABC):\n",
    "    def print_slip(self,amount):\n",
    "        print('Purchase of amount: ', amount)\n",
    "    @abstractmethod\n",
    "    def payment(self, amount):\n",
    "        pass"
   ]
  },
  {
   "cell_type": "code",
   "execution_count": null,
   "id": "e420a947",
   "metadata": {},
   "outputs": [],
   "source": [
    "class CreditCardPayment(Payment):\n",
    "    def payment(self, amount):\n",
    "        print('Credit, card payment of: ', amount)"
   ]
  },
  {
   "cell_type": "code",
   "execution_count": null,
   "id": "0682d7e4",
   "metadata": {},
   "outputs": [],
   "source": [
    "#criando objeto CreditCardPayment\n",
    "obj = CreditCardPayment()\n",
    "obj.payment(100)\n",
    "obj.print_slip(100)\n",
    "print(isinstance(obj, Payment))"
   ]
  }
 ],
 "metadata": {
  "kernelspec": {
   "display_name": "Python 3",
   "language": "python",
   "name": "python3"
  },
  "language_info": {
   "codemirror_mode": {
    "name": "ipython",
    "version": 3
   },
   "file_extension": ".py",
   "mimetype": "text/x-python",
   "name": "python",
   "nbconvert_exporter": "python",
   "pygments_lexer": "ipython3",
   "version": "3.8.8"
  }
 },
 "nbformat": 4,
 "nbformat_minor": 5
}
