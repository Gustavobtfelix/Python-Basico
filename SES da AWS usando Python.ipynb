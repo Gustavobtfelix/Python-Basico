{
 "cells": [
  {
   "cell_type": "code",
   "execution_count": 1,
   "id": "ab2e0a14",
   "metadata": {},
   "outputs": [
    {
     "name": "stdout",
     "output_type": "stream",
     "text": [
      "Requirement already satisfied: boto3 in c:\\users\\demetrius\\appdata\\roaming\\python\\python38\\site-packages (1.17.112)\n",
      "Requirement already satisfied: s3transfer<0.5.0,>=0.4.0 in c:\\users\\demetrius\\appdata\\roaming\\python\\python38\\site-packages (from boto3) (0.4.2)\n",
      "Requirement already satisfied: jmespath<1.0.0,>=0.7.1 in c:\\users\\demetrius\\appdata\\roaming\\python\\python38\\site-packages (from boto3) (0.10.0)\n",
      "Requirement already satisfied: botocore<1.21.0,>=1.20.112 in c:\\users\\demetrius\\appdata\\roaming\\python\\python38\\site-packages (from boto3) (1.20.112)\n",
      "Requirement already satisfied: urllib3<1.27,>=1.25.4 in c:\\users\\demetrius\\appdata\\roaming\\python\\python38\\site-packages (from botocore<1.21.0,>=1.20.112->boto3) (1.26.7)\n",
      "Requirement already satisfied: python-dateutil<3.0.0,>=2.1 in c:\\users\\demetrius\\appdata\\roaming\\python\\python38\\site-packages (from botocore<1.21.0,>=1.20.112->boto3) (2.8.2)\n",
      "Requirement already satisfied: six>=1.5 in c:\\users\\demetrius\\appdata\\roaming\\python\\python38\\site-packages (from python-dateutil<3.0.0,>=2.1->botocore<1.21.0,>=1.20.112->boto3) (1.15.0)\n",
      "Note: you may need to restart the kernel to use updated packages.\n"
     ]
    }
   ],
   "source": [
    "pip install boto3"
   ]
  },
  {
   "cell_type": "code",
   "execution_count": 2,
   "id": "bdcf7dc5",
   "metadata": {},
   "outputs": [],
   "source": [
    "import boto3"
   ]
  },
  {
   "cell_type": "code",
   "execution_count": null,
   "id": "c4455c24",
   "metadata": {},
   "outputs": [],
   "source": [
    "#Cria o serviço com as suas credenciais da AWS\n",
    "ses = boto3.client(\n",
    "    service_name = 'ses',\n",
    "    region_name = 'us-east-1',\n",
    "    aws_acess_key_id = '***Sua chave de acesso***',\n",
    "    aws_secret_acess_key = '***Sua chave secreta***')"
   ]
  },
  {
   "cell_type": "code",
   "execution_count": null,
   "id": "ed8894f0",
   "metadata": {},
   "outputs": [],
   "source": [
    "#envia o email atraves do serviço SES da AWS\n",
    "ses.semd_email(\n",
    "    Destiantion={\n",
    "        'ToAddresses': [\n",
    "            'destinatario@gmail.com'  #E-mail que vai receber\n",
    "        ],\n",
    "    },\n",
    "    Message={\n",
    "        'Body': {\n",
    "           'Text': {\n",
    "               'Charset': 'utf-8',\n",
    "               'Data': 'Olá destinatario',    #texto do email\n",
    "           }, \n",
    "        },\n",
    "        'Subject': {\n",
    "            'Charset': 'utf-8',\n",
    "            'Data': 'Enviando email pela AWS',    #Assunto do email\n",
    "        },\n",
    "    },\n",
    "    Source='*** Seu email para envio***' # email que vaia fazer o envio\n",
    ")"
   ]
  },
  {
   "cell_type": "markdown",
   "id": "c25376bf",
   "metadata": {},
   "source": []
  }
 ],
 "metadata": {
  "kernelspec": {
   "display_name": "Python 3",
   "language": "python",
   "name": "python3"
  },
  "language_info": {
   "codemirror_mode": {
    "name": "ipython",
    "version": 3
   },
   "file_extension": ".py",
   "mimetype": "text/x-python",
   "name": "python",
   "nbconvert_exporter": "python",
   "pygments_lexer": "ipython3",
   "version": "3.8.8"
  }
 },
 "nbformat": 4,
 "nbformat_minor": 5
}
