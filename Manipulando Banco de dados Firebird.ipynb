{
 "cells": [
  {
   "cell_type": "code",
   "execution_count": 1,
   "metadata": {},
   "outputs": [],
   "source": [
    "import firebirdsql"
   ]
  },
  {
   "cell_type": "code",
   "execution_count": null,
   "metadata": {},
   "outputs": [],
   "source": [
    "#conecta no seu banco de dados\n",
    "\n",
    "con = firebirdsql.connect(\n",
    "host='127.0.0.1',\n",
    "database=r'dados.fdb',\n",
    "#port=3050,\n",
    "user= 'SYSDBA',\n",
    "password='masterkey'\n",
    ")"
   ]
  },
  {
   "cell_type": "code",
   "execution_count": null,
   "metadata": {},
   "outputs": [],
   "source": [
    "#cria uma query, insere e da commit no regsitro\n",
    "\n",
    "q = con.cursor()\n",
    "q.execute(\"INSERT INTO CLIENTES (NOME, IDADE, SEXO) VALUES('Felipe', 20, 'M')\")\n",
    "q.execute(\"INSERT INTO CLIENTES (NOME, IDADE, SEXO) VALUES('Márcio', 45, 'M')\")\n",
    "q.execute(\"INSERT INTO CLIENTES (NOME, IDADE, SEXO) VALUES('Maria', 23, 'F')\")\n",
    "q.execute(\"INSERT INTO CLIENTES (NOME, IDADE, SEXO) VALUES('Adilcia', 28, 'F')\")\n",
    "q.execute(\"INSERT INTO CLIENTES (NOME, IDADE, SEXO) VALUES('João', 36, 'M')\")"
   ]
  },
  {
   "cell_type": "code",
   "execution_count": null,
   "metadata": {},
   "outputs": [],
   "source": [
    "#cria query, seleciona os resgistros e mostra na tela\n",
    "q = con.cursor()\n",
    "q.execute('SELECT * FROM CLIENTES')\n",
    "clientes = q.fetchall()\n",
    "print(clientes)"
   ]
  }
 ],
 "metadata": {
  "kernelspec": {
   "display_name": "Python 3",
   "language": "python",
   "name": "python3"
  },
  "language_info": {
   "codemirror_mode": {
    "name": "ipython",
    "version": 3
   },
   "file_extension": ".py",
   "mimetype": "text/x-python",
   "name": "python",
   "nbconvert_exporter": "python",
   "pygments_lexer": "ipython3",
   "version": "3.8.3"
  }
 },
 "nbformat": 4,
 "nbformat_minor": 4
}
